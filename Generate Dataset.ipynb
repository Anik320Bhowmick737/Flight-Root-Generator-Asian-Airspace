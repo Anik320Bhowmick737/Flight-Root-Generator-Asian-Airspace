{
 "cells": [
  {
   "cell_type": "markdown",
   "id": "4737b7bf-e158-47eb-8f99-aec15f1295f3",
   "metadata": {},
   "source": [
    "## Airport and Runways"
   ]
  },
  {
   "cell_type": "code",
   "execution_count": 85,
   "id": "d3e81e33-a017-4982-998c-7c7d663fa98c",
   "metadata": {},
   "outputs": [],
   "source": [
    "with open('Airports.txt', 'r') as file:\n",
    "    data = file.read()\n",
    "    file.close()\n",
    "    \n",
    "lines = [line for line in data.strip().split('\\n')[1:] if line.strip()]\n",
    "airport_data = []\n",
    "runway_data = []\n",
    "current_airport = None\n",
    "for line in lines:\n",
    "    fields = line.split(',')\n",
    "    if fields[0] == 'A':\n",
    "        airport_data.append(fields)\n",
    "        current_airport = fields[1]\n",
    "    elif fields[0] == 'R' and current_airport:\n",
    "        runway_data.append([current_airport] + fields[1:])\n",
    "\n",
    "airport_columns = ['Type', 'ICAO', 'Name', 'Latitude', 'Longitude', 'Elevation', 'Transition Altitude', 'Reserved1', 'Longest Runway Length', 'Reserved2']\n",
    "numeric_columns_airport = ['Latitude', 'Longitude', 'Elevation', 'Transition Altitude', 'Longest Runway Length']\n",
    "runway_columns = ['ICAO', 'Runway', 'Heading', 'Length', 'Width', 'ILS Available', 'ILS Frequency', 'Final Approach Course', 'Latitude', 'Longitude', 'Elevation', 'Glide Path Angle', 'Lighting', 'Reserved4', 'Reserved5']\n",
    "numeric_columns_runway = ['Heading', 'Length', 'Width', 'ILS Frequency', 'Latitude', 'Longitude', 'Elevation', 'Glide Path Angle']\n",
    "airport_df = pd.DataFrame(airport_data, columns=airport_columns)\n",
    "runway_df = pd.DataFrame(runway_data, columns=runway_columns)\n",
    "airport_df[numeric_columns_airport] = airport_df[numeric_columns_airport].apply(pd.to_numeric, errors='coerce')\n",
    "runway_df[numeric_columns_runway] = runway_df[numeric_columns_runway].apply(pd.to_numeric, errors='coerce')\n",
    "runway_df.drop(['Reserved4', 'Reserved5','Lighting'],axis=1,inplace=True)\n",
    "airport_df.drop(['Type','Reserved1','Reserved2'],inplace=True,axis=1)\n",
    "airport_df.to_csv(\"Airports.csv\",index=False)"
   ]
  },
  {
   "cell_type": "markdown",
   "id": "ea21b5e6-5666-4ca1-b339-bbc9cd33592b",
   "metadata": {},
   "source": [
    "## Waypoints"
   ]
  },
  {
   "cell_type": "code",
   "execution_count": 159,
   "id": "3b934816-621c-413d-8c42-71749e82e6a1",
   "metadata": {},
   "outputs": [],
   "source": [
    "with open('Waypoints.txt', 'r') as file:\n",
    "    data = file.read()\n",
    "    file.close()\n",
    "\n",
    "lines = [line.strip() for line in data.strip().split('\\n')]\n",
    "\n",
    "wpt_data = []\n",
    "for line in lines:\n",
    "    fields = line.split(',')\n",
    "    wpt_data.append(fields)\n",
    "    \n",
    "columns = ['Waypoints','Latitude', 'Longitude','FIR']\n",
    "numericCols  = ['Latitude', 'Longitude']\n",
    "waypoint_df = pd.DataFrame(wpt_data,columns=columns)\n",
    "waypoint_df[numericCols] = waypoint_df[numericCols].apply(pd.to_numeric, errors='coerce')\n",
    "waypoint_df.to_csv(\"Waypoints.csv\",index=False)"
   ]
  },
  {
   "cell_type": "markdown",
   "id": "88fdbd66-15b0-455e-892f-50383580ed86",
   "metadata": {},
   "source": [
    "## NavAids"
   ]
  },
  {
   "cell_type": "code",
   "execution_count": 168,
   "id": "8c978849-064c-4b57-82fd-caa6476f6a61",
   "metadata": {},
   "outputs": [],
   "source": [
    "with open('Navaids.txt', 'r') as file:\n",
    "    data = file.read()\n",
    "    file.close()\n",
    "\n",
    "lines = [line.strip() for line in data.strip().split('\\n')]\n",
    "\n",
    "columns = [\"Navaid\",\"Location\",\"Frequency\",\"u1\",\"u2\",\"u3\",\"Latitude\",\"Longitude\",\"u4\",\"FIR\",\"u5\",\"u6\",\"u7\",\"u8\"]\n",
    "\n",
    "Navaid_data = []\n",
    "for line in lines:\n",
    "    fields = line.split(',')\n",
    "    Navaid_data.append(fields)\n",
    "numeric_columns = ['Latitude', 'Longitude', 'Frequency']\n",
    "Navaid_df = pd.DataFrame(Navaid_data,columns = columns)\n",
    "Navaid_df.drop(['u1','u2','u3','u4','u5','u6','u7','u8'],axis=1,inplace=True)\n",
    "Navaid_df[numeric_columns] = Navaid_df[numeric_columns].apply(pd.to_numeric, errors='coerce')\n",
    "Navaid_df.to_csv(\"Navaids.csv\",index=False)"
   ]
  },
  {
   "cell_type": "markdown",
   "id": "85355d62-3651-4754-86a9-1d533763e0ca",
   "metadata": {},
   "source": [
    "## Airways"
   ]
  },
  {
   "cell_type": "code",
   "execution_count": 170,
   "id": "a1e1bccf-f1cc-4f35-9a70-4be8e4a9c56c",
   "metadata": {},
   "outputs": [],
   "source": [
    "with open('ATS.txt', 'r') as file:\n",
    "    data = file.read()\n",
    "    file.close()\n",
    "\n",
    "lines = [line.strip() for line in data.strip().split('\\n')]\n",
    "\n",
    "parsed_data = []\n",
    "current_airway = None\n",
    "\n",
    "for line in lines:\n",
    "    if line.startswith('A'):\n",
    "        current_airway = line.split(',')[1]  \n",
    "    elif line.startswith('S'):\n",
    "        waypoint_data = line.split(',')[1:]\n",
    "        parsed_data.append([current_airway] + waypoint_data)\n",
    "\n",
    "columns = [\"Airway\",\"Source\",\"Src_Lat\",\"Src_Long\",\"Dest\",\"Dest_Lat\",\"Dest_Long\",\"unk1\",\"unk2\",\"Distance\"]\n",
    "numericCol = [\"Src_Lat\",\"Src_Long\",\"Dest_Lat\",\"Dest_Long\",\"Distance\"]\n",
    "\n",
    "Airway_df = pd.DataFrame(parsed_data,columns = columns)\n",
    "Airway_df.drop(['unk1','unk2'],axis=1,inplace=True)\n",
    "\n",
    "Airway_df[numericCol] = Airway_df[numericCol].apply(pd.to_numeric, errors='coerce')\n",
    "Airway_df.to_csv(\"Airways.csv\",index=False)"
   ]
  }
 ],
 "metadata": {
  "kernelspec": {
   "display_name": "Python 3 (ipykernel)",
   "language": "python",
   "name": "python3"
  },
  "language_info": {
   "codemirror_mode": {
    "name": "ipython",
    "version": 3
   },
   "file_extension": ".py",
   "mimetype": "text/x-python",
   "name": "python",
   "nbconvert_exporter": "python",
   "pygments_lexer": "ipython3",
   "version": "3.11.0"
  }
 },
 "nbformat": 4,
 "nbformat_minor": 5
}
